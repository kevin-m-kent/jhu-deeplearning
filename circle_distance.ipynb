{
 "cells": [
  {
   "cell_type": "code",
   "execution_count": 47,
   "id": "5f0f9549",
   "metadata": {},
   "outputs": [],
   "source": [
    "# assume centered at zero\n",
    "import math\n",
    "import numpy as np\n",
    "\n",
    "def distance_formula(x_1, y_1, x_2, y_2):\n",
    "    return math.sqrt((x_2-x_1)**2 + (y_2-y_1)**2)\n",
    "\n",
    "def create_circle(r):\n",
    "    x_points = np.arange(-r, r, 0.1) \n",
    "    y_points = []\n",
    "    for x in x_points:\n",
    "        y = math.sqrt(r**2 - x**2)\n",
    "        y_points.append(y)\n",
    "    x_y_points=[(x,y) for x, y in zip(x_points, y_points)]\n",
    "    return x_y_points\n",
    "\n",
    "def find_min_max_distance(a, b, r):\n",
    "    x_y_points=create_circle(r)\n",
    "    distances = np.array([distance_formula(a, b, a_2, b_2) for a_2, b_2 in x_y_points])\n",
    "    x_y_points_lcl=np.array(x_y_points)\n",
    "    return (x_y_points_lcl[np.where(distances==distances.min())], x_y_points_lcl[np.where(distances==distances.max())])"
   ]
  },
  {
   "cell_type": "code",
   "execution_count": 51,
   "id": "825c1ae3",
   "metadata": {},
   "outputs": [
    {
     "data": {
      "text/plain": [
       "(array([[9.9      , 1.4106736]]), array([[-2.4       ,  9.70772888]]))"
      ]
     },
     "execution_count": 51,
     "metadata": {},
     "output_type": "execute_result"
    }
   ],
   "source": [
    "r = 10\n",
    "find_min_max_distance(1,-4, r)"
   ]
  }
 ],
 "metadata": {
  "kernelspec": {
   "display_name": "jhu_deeplearning",
   "language": "python",
   "name": "python3"
  },
  "language_info": {
   "codemirror_mode": {
    "name": "ipython",
    "version": 3
   },
   "file_extension": ".py",
   "mimetype": "text/x-python",
   "name": "python",
   "nbconvert_exporter": "python",
   "pygments_lexer": "ipython3",
   "version": "3.12.8"
  }
 },
 "nbformat": 4,
 "nbformat_minor": 5
}
