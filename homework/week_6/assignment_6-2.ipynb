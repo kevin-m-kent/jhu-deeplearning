{
 "cells": [
  {
   "cell_type": "code",
   "execution_count": 3,
   "id": "c7b11455",
   "metadata": {},
   "outputs": [],
   "source": [
    "import numpy as np\n",
    "import matplotlib.pylab as plt \n",
    "x = np.linspace(-np.pi, np.pi, 1000)\n",
    "x_sin = np.sin(x)"
   ]
  },
  {
   "cell_type": "code",
   "execution_count": 4,
   "id": "fb09c2c3",
   "metadata": {},
   "outputs": [
    {
     "name": "stdout",
     "output_type": "stream",
     "text": [
      "Final prediction: 1.4443830571894394\n"
     ]
    }
   ],
   "source": [
    "# recurrent loop without backprop \n",
    "matrix_1 = np.random.rand(3,3)\n",
    "bias_1 = np.random.rand(1,1)[0][0]\n",
    "hidden_unit = np.zeros((3,1))\n",
    "output_weights = np.random.rand(1, 3)\n",
    "output_bias = np.random.rand(1, 1)[0][0] \n",
    "for i in range(len(x)):\n",
    "    hidden_unit = np.tanh(np.dot(matrix_1, x[i]) + bias_1 + hidden_unit)\n",
    "    output = np.dot(output_weights, hidden_unit) + output_bias\n",
    "prediction = np.dot(output_weights, hidden_unit) + output_bias\n",
    "prediction = prediction[0][0] \n",
    "print(f\"Final prediction: {prediction}\")"
   ]
  }
 ],
 "metadata": {
  "kernelspec": {
   "display_name": "jhu_deeplearning",
   "language": "python",
   "name": "python3"
  },
  "language_info": {
   "codemirror_mode": {
    "name": "ipython",
    "version": 3
   },
   "file_extension": ".py",
   "mimetype": "text/x-python",
   "name": "python",
   "nbconvert_exporter": "python",
   "pygments_lexer": "ipython3",
   "version": "3.12.8"
  }
 },
 "nbformat": 4,
 "nbformat_minor": 5
}
