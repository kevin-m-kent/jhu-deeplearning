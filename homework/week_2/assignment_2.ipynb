{
 "cells": [
  {
   "cell_type": "markdown",
   "id": "aff2e55d",
   "metadata": {},
   "source": [
    "# Setup and Loss Definition"
   ]
  },
  {
   "cell_type": "code",
   "execution_count": 6,
   "id": "d0d5c39c",
   "metadata": {},
   "outputs": [],
   "source": [
    "# sample data\n",
    "import numpy as np\n",
    "y_true = np.array([1, 0, 1, 1, 0])\n",
    "y_pred = np.array([0.9, 0.2, 0.8, 0.7, 0.1])"
   ]
  },
  {
   "cell_type": "code",
   "execution_count": 2,
   "id": "0d37bc76",
   "metadata": {},
   "outputs": [],
   "source": [
    "def cross_entropy(y_true, y_pred, lambda_reg=None):\n",
    "    if lambda_reg:\n",
    "        return -1*np.sum(\n",
    "            y_true * np.log(y_pred) + (1-y_true)*np.log(1-y_pred)\n",
    "        ) + lambda_reg*np.sum(y_pred**2)\n",
    "    else:\n",
    "        return -1*np.sum(\n",
    "            y_true * np.log(y_pred) + (1-y_true)*np.log(1-y_pred)\n",
    "        )"
   ]
  },
  {
   "cell_type": "code",
   "execution_count": null,
   "id": "6112bbf0",
   "metadata": {},
   "outputs": [
    {
     "data": {
      "text/plain": [
       "np.float64(1.0136830778828045)"
      ]
     },
     "execution_count": 7,
     "metadata": {},
     "output_type": "execute_result"
    }
   ],
   "source": [
    "# unregularized log loss\n",
    "cross_entropy(y_true, y_pred)"
   ]
  },
  {
   "cell_type": "code",
   "execution_count": 9,
   "id": "052761f5",
   "metadata": {},
   "outputs": [
    {
     "data": {
      "text/plain": [
       "np.float64(2.0086830778828046)"
      ]
     },
     "execution_count": 9,
     "metadata": {},
     "output_type": "execute_result"
    }
   ],
   "source": [
    "# regularized log loss\n",
    "cross_entropy(y_true, y_pred, .5)"
   ]
  },
  {
   "cell_type": "markdown",
   "id": "315d5a3c",
   "metadata": {},
   "source": [
    "# Modify Predictions, Understand Impact to Regularized Loss\n",
    "\n",
    "Let's try some different pred sets and see how it impacts the regularized loss. "
   ]
  },
  {
   "cell_type": "code",
   "execution_count": 16,
   "id": "6668a991",
   "metadata": {},
   "outputs": [
    {
     "name": "stdout",
     "output_type": "stream",
     "text": [
      "Trying adj of 0.1: Log loss 7.62, Reguarlized Log loss 7.63\n",
      "Trying adj of 0.2: Log loss 5.57, Reguarlized Log loss 5.61\n",
      "Trying adj of 0.3: Log loss 4.39, Reguarlized Log loss 4.48\n",
      "Trying adj of 0.4: Log loss 3.56, Reguarlized Log loss 3.72\n",
      "Trying adj of 0.5: Log loss 2.92, Reguarlized Log loss 3.17\n",
      "Trying adj of 0.6: Log loss 2.41, Reguarlized Log loss 2.77\n",
      "Trying adj of 0.7: Log loss 1.98, Reguarlized Log loss 2.47\n",
      "Trying adj of 0.8: Log loss 1.61, Reguarlized Log loss 2.25\n",
      "Trying adj of 0.9: Log loss 1.29, Reguarlized Log loss 2.1\n"
     ]
    }
   ],
   "source": [
    "adjustments = np.arange(.1, 1, .1)\n",
    "for adj in adjustments:\n",
    "    y_pred_adj = y_pred*adj\n",
    "    log_loss=cross_entropy(y_true, y_pred_adj)\n",
    "    regularized_loss=cross_entropy(y_true, y_pred_adj, .5)\n",
    "    print(f\"Trying adj of {np.round(adj,2)}: Log loss {np.round(log_loss,2)}, Reguarlized Log loss {np.round(regularized_loss,2)}\")"
   ]
  },
  {
   "cell_type": "markdown",
   "id": "259d96d6",
   "metadata": {},
   "source": [
    "## Discussion of results\n",
    "\n",
    "What is clear to me here is that the further away from 1 the predictions are, the closer the unregularized log loss becomes to the regularized version. This tells us that the regularization is penalizing predictions close to 1, making the model a bit more conservative in terms of predicting the positive class. Normally this kind of regularization would be done on the models weights themselves rather than the predictions (to discourage overfitting and make the model a bit more sparse)."
   ]
  }
 ],
 "metadata": {
  "kernelspec": {
   "display_name": "jhu_deeplearning",
   "language": "python",
   "name": "python3"
  },
  "language_info": {
   "codemirror_mode": {
    "name": "ipython",
    "version": 3
   },
   "file_extension": ".py",
   "mimetype": "text/x-python",
   "name": "python",
   "nbconvert_exporter": "python",
   "pygments_lexer": "ipython3",
   "version": "3.12.8"
  }
 },
 "nbformat": 4,
 "nbformat_minor": 5
}
